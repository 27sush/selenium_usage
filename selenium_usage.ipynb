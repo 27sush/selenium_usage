{
 "cells": [
  {
   "cell_type": "code",
   "execution_count": 109,
   "metadata": {},
   "outputs": [],
   "source": [
    "from selenium import webdriver\n",
    "from selenium.webdriver.common.by import By\n",
    "from selenium.webdriver.common.keys import Keys\n",
    "from time import sleep, strftime\n",
    "from random import randint\n",
    "import pandas as pd\n",
    "import numpy as np\n",
    "\n",
    "\n",
    "class InstagramBot():\n",
    "    def __init__(self, email, password):\n",
    "        chromedriver_path = '../chromedriver'\n",
    "        self.browser = webdriver.Chrome(executable_path=chromedriver_path)\n",
    "        self.email = email\n",
    "        self.password = password\n",
    "\n",
    "    def signIn(self):\n",
    "        self.browser.get('https://www.instagram.com/accounts/login/?source=auth_switcher')\n",
    "\n",
    "        emailInput = self.browser.find_elements_by_css_selector('form input')[0]\n",
    "        passwordInput = self.browser.find_elements_by_css_selector('form input')[1]\n",
    "\n",
    "        emailInput.send_keys(self.email)\n",
    "        passwordInput.send_keys(self.password)\n",
    "        passwordInput.send_keys(Keys.ENTER)\n",
    "        sleep(2)\n",
    "        \n",
    "    def isFollowed(self):\n",
    "        getstr = self.browser.find_element_by_css_selector(\"body > \\\n",
    "        div._2dDPU.vCf6V > div.zZYga > div > article > header > \\\n",
    "        div.o-MQd > div.PQo_0 > div.bY2yH > button\").text\n",
    "        return True if getstr == 'Following' else False\n",
    "    \n",
    "    def Follow(self):\n",
    "        getstr = self.browser.find_element_by_css_selector(\"body > \\\n",
    "        div._2dDPU.vCf6V > div.zZYga > div > article > header > \\\n",
    "        div.o-MQd > div.PQo_0 > div.bY2yH > button\").click()\n",
    "        \n",
    "    \n",
    "    def isLiked(self):\n",
    "        like_xpath = \"//button/span[@class='glyphsSpriteHeart__outline__24__grey_9 u-__7' and @aria-label='Like']\"\n",
    "        if self.browser.find_element_by_xpath(like_xpath):\n",
    "            return False\n",
    "        else:\n",
    "            return True\n",
    "    def Like(self):\n",
    "        like_xpath = \"//button/span[@class='glyphsSpriteHeart__outline__24__grey_9 u-__7' and @aria-label='Like']\"\n",
    "        self.browser.find_element_by_xpath(like_xpath).click()\n",
    "        \n",
    "    def GotoNextImage(self):\n",
    "        self.browser.find_element_by_link_text('Next').click()\n",
    "        \n",
    "    def GetComments(self):\n",
    "        comments = []\n",
    "        for i in self.browser.find_elements_by_xpath(\"//div[@class = 'C4VMK']/span\"):\n",
    "            comments.append(i.text)\n",
    "        return comments\n",
    "    \n",
    "    def ShouldComment(self):\n",
    "        probability = 0.3\n",
    "        return np.random.choice([True,False], 1,[probability,1-probability])\n",
    "    \n",
    "    def ShouldLike(self):\n",
    "        probability = 0.3\n",
    "        return np.random.choice([True,False], 1,[probability,1-probability])\n",
    "    def ShouldFollow(self):\n",
    "        probability = 0.3\n",
    "        return np.random.choice([True,False], 1,[probability,1-probability])\n",
    "    def RandomComment(self,comments):\n",
    "        return np.random.choice(comments,1)\n",
    "\n",
    "bot = InstagramBot('sushy_days', 'cooja27')\n",
    "bot.signIn()"
   ]
  },
  {
   "cell_type": "code",
   "execution_count": 129,
   "metadata": {},
   "outputs": [
    {
     "name": "stdout",
     "output_type": "stream",
     "text": [
      "11\n"
     ]
    },
    {
     "data": {
      "text/plain": [
       "array([ True])"
      ]
     },
     "execution_count": 129,
     "metadata": {},
     "output_type": "execute_result"
    }
   ],
   "source": [
    "#print(bot.isLiked())\n",
    "# print(bot.isFollowed())\n",
    "#print(bot.GotoNextImage())\n",
    "print(bot.ShouldComment())\n",
    "print(bot.ShouldLike())\n",
    "print(bot.ShouldFollow())\n",
    "\n",
    "\n",
    "\n",
    "\n",
    "\n"
   ]
  },
  {
   "cell_type": "code",
   "execution_count": 120,
   "metadata": {},
   "outputs": [
    {
     "ename": "AttributeError",
     "evalue": "module 'selenium.webdriver' has no attribute 'get'",
     "output_type": "error",
     "traceback": [
      "\u001b[0;31m---------------------------------------------------------------------------\u001b[0m",
      "\u001b[0;31mAttributeError\u001b[0m                            Traceback (most recent call last)",
      "\u001b[0;32m<ipython-input-120-316f12bfc1cd>\u001b[0m in \u001b[0;36m<module>\u001b[0;34m\u001b[0m\n\u001b[1;32m     10\u001b[0m \u001b[0;32mfor\u001b[0m \u001b[0mhashtag\u001b[0m \u001b[0;32min\u001b[0m \u001b[0mhashtag_list\u001b[0m\u001b[0;34m:\u001b[0m\u001b[0;34m\u001b[0m\u001b[0;34m\u001b[0m\u001b[0m\n\u001b[1;32m     11\u001b[0m     \u001b[0mtag\u001b[0m \u001b[0;34m+=\u001b[0m \u001b[0;36m1\u001b[0m\u001b[0;34m\u001b[0m\u001b[0;34m\u001b[0m\u001b[0m\n\u001b[0;32m---> 12\u001b[0;31m     \u001b[0mwebdriver\u001b[0m\u001b[0;34m.\u001b[0m\u001b[0mget\u001b[0m\u001b[0;34m(\u001b[0m\u001b[0;34m'https://www.instagram.com/explore/tags/'\u001b[0m\u001b[0;34m+\u001b[0m \u001b[0mhashtag_list\u001b[0m\u001b[0;34m[\u001b[0m\u001b[0mtag\u001b[0m\u001b[0;34m]\u001b[0m \u001b[0;34m+\u001b[0m \u001b[0;34m'/'\u001b[0m\u001b[0;34m)\u001b[0m\u001b[0;34m\u001b[0m\u001b[0;34m\u001b[0m\u001b[0m\n\u001b[0m\u001b[1;32m     13\u001b[0m     \u001b[0msleep\u001b[0m\u001b[0;34m(\u001b[0m\u001b[0;36m4\u001b[0m\u001b[0;34m)\u001b[0m\u001b[0;34m\u001b[0m\u001b[0;34m\u001b[0m\u001b[0m\n\u001b[1;32m     14\u001b[0m     \u001b[0mfirst_thumbnail\u001b[0m \u001b[0;34m=\u001b[0m \u001b[0mwebdriver\u001b[0m\u001b[0;34m.\u001b[0m\u001b[0mfind_element_by_xpath\u001b[0m\u001b[0;34m(\u001b[0m\u001b[0;34m'//*[@id=\"react-root\"]/section/main/article/div[1]/div/div/div[1]/div[1]/a/div'\u001b[0m\u001b[0;34m)\u001b[0m\u001b[0;34m\u001b[0m\u001b[0;34m\u001b[0m\u001b[0m\n",
      "\u001b[0;31mAttributeError\u001b[0m: module 'selenium.webdriver' has no attribute 'get'"
     ]
    }
   ],
   "source": [
    "hashtag_list = ['stoofvlees']\n",
    "\n",
    "\n",
    "new_followed = []\n",
    "tag = -1\n",
    "followed = 0\n",
    "likes = 0\n",
    "comments = 0\n",
    "\n",
    "for hashtag in hashtag_list:\n",
    "    tag += 1\n",
    "    webdriver.get('https://www.instagram.com/explore/tags/'+ hashtag_list[tag] + '/')\n",
    "    sleep(4)\n",
    "    first_thumbnail = webdriver.find_element_by_xpath('//*[@id=\"react-root\"]/section/main/article/div[1]/div/div/div[1]/div[1]/a/div')\n",
    "    \n",
    "    first_thumbnail.click()\n",
    "    sleep(randint(1,10))    \n",
    "    try:        \n",
    "        for x in range(5):\n",
    "                    # Liking the picture\n",
    "                    #button = webdriver.find_element_by_css_selector(\"body > div._2dDPU.vCf6V > div.zZYga > div > article > div.eo2As > section.ltpMr.Slqrh > span.fr66n > button > span\")\n",
    "                    button = webdriver.find_element_by_css_selector(\"button.coreSpriteHeartOpen\")\n",
    "                    heart=button.click()\n",
    "               \n",
    "                    # Comments and tracker\n",
    "                    webdriver.find_element_by_css_selector(\"body > div._2dDPU.vCf6V > div.zZYga > div > article > div.eo2As > section.ltpMr.Slqrh > span._15y0l > button > span\").click()\n",
    "                    comment_box = webdriver.find_element_by_css_selector(\"body > div._2dDPU.vCf6V > div.zZYga > div > article > div.eo2As > section.sH9wk._JgwE > div > form > textarea\")\n",
    "                    comment_box.send_keys('soul satisfying!')\n",
    "                    \n",
    "                    sleep(1)\n",
    "                        \n",
    "                    # Enter to post comment\n",
    "                    text_enter=comment_box.send_keys(Keys.ENTER)\n",
    "                    sleep(2)\n",
    "                    \n",
    "                    #follow :\n",
    "                    follow = webdriver.find_element_by_css_selector(\"body > div._2dDPU.vCf6V > div.zZYga > div > article > header > div.o-MQd > div.PQo_0 > div.bY2yH > button\")\n",
    "                    follow.click()\n",
    "                    sleep(2)\n",
    "                    \n",
    "                # Next picture\n",
    "                   \n",
    "                    images_trial = webdriver.find_element_by_link_text('Next').click()\n",
    "                    print(\"next image processing\")\n",
    "                    sleep(randint(2,5))\n",
    "                   \n",
    "                   # button_2=webdriver.find_element_by_css_selector(\"body > div._2dDPU.vCf6V > div.zZYga > div > article > div.eo2As > section.ltpMr.Slqrh > span.fr66n > button > span\")\n",
    "                   # button_2.click()\n",
    "                    \n",
    "                    \n",
    "               \n",
    "        else:\n",
    "                    webdriver.find_element_by_link_text('Next').click()\n",
    "                \n",
    "             \n",
    "    # some hashtag stops refreshing photos (it may happen sometimes), it continues to the next\n",
    "    except:\n",
    "        continue\n"
   ]
  },
  {
   "cell_type": "code",
   "execution_count": null,
   "metadata": {},
   "outputs": [],
   "source": []
  }
 ],
 "metadata": {
  "kernelspec": {
   "display_name": "Python 3",
   "language": "python",
   "name": "python3"
  },
  "language_info": {
   "codemirror_mode": {
    "name": "ipython",
    "version": 3
   },
   "file_extension": ".py",
   "mimetype": "text/x-python",
   "name": "python",
   "nbconvert_exporter": "python",
   "pygments_lexer": "ipython3",
   "version": "3.6.8"
  }
 },
 "nbformat": 4,
 "nbformat_minor": 2
}
