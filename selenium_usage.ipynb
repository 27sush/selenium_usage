{
 "cells": [
  {
   "cell_type": "code",
   "execution_count": 3,
   "metadata": {},
   "outputs": [],
   "source": [
    "from selenium import webdriver\n",
    "from selenium.webdriver.common.keys import Keys\n",
    "from time import sleep, strftime\n",
    "from random import randint\n",
    "import pandas as pd\n",
    "\n",
    "chromedriver_path = 'C:/Users/dell/Downloads/chromedriver.exe' # Change this to your own chromedriver path\n",
    "webdriver = webdriver.Chrome(executable_path=chromedriver_path)\n",
    "sleep(1)\n",
    "webdriver.get('https://www.instagram.com/accounts/login/?source=auth_switcher')\n",
    "sleep(randint(2,6))\n",
    "\n",
    "username = webdriver.find_element_by_name('username')\n",
    "username.send_keys('username')\n",
    "password = webdriver.find_element_by_name('password')\n",
    "password.send_keys('password')\n",
    "sleep(1) ##react-root > section > main > div > article > div > div:nth-child(1) > div > form > div:nth-child(3) > button'\n",
    "\n",
    "button_login = webdriver.find_element_by_css_selector('#react-root > section > main > div > article > div > div:nth-child(1) > div > form > div:nth-child(3) > button')\n",
    "button_login.click()\n",
    "sleep(2)  #//*[@id=\"react-root\"]/section/main/div/article/div/div[1]/div/form/div[6]/button/div\n",
    "           ##react-root > section > main > div > article > div > div:nth-child(1) > div > form > div.Igw0E.IwRSH.eGOV_._4EzTm.bkEs3.CovQj.jKUp7.DhRcB > button > div"
   ]
  },
  {
   "cell_type": "code",
   "execution_count": 6,
   "metadata": {},
   "outputs": [
    {
     "name": "stdout",
     "output_type": "stream",
     "text": [
      "next image processing\n",
      "next image processing\n",
      "next image processing\n",
      "next image processing\n"
     ]
    }
   ],
   "source": [
    "hashtag_list = ['stoofvlees']\n",
    "\n",
    "\n",
    "new_followed = []\n",
    "tag = -1\n",
    "followed = 0\n",
    "likes = 0\n",
    "comments = 0\n",
    "\n",
    "for hashtag in hashtag_list:\n",
    "    tag += 1\n",
    "    webdriver.get('https://www.instagram.com/explore/tags/'+ hashtag_list[tag] + '/')\n",
    "    sleep(4)\n",
    "    first_thumbnail = webdriver.find_element_by_xpath('//*[@id=\"react-root\"]/section/main/article/div[1]/div/div/div[1]/div[1]/a/div')\n",
    "    \n",
    "    first_thumbnail.click()\n",
    "    sleep(randint(1,10))    \n",
    "    try:        \n",
    "        for x in range(1,5):\n",
    "                  # Liking the picture\n",
    "                    button = webdriver.find_element_by_css_selector(\"body > div._2dDPU.vCf6V > div.zZYga > div > article > div.eo2As > section.ltpMr.Slqrh > span.fr66n > button > span\")\n",
    "                    heart=button.click()\n",
    "               \n",
    "\n",
    "                    # Comments and tracker\n",
    "                    webdriver.find_element_by_css_selector(\"body > div._2dDPU.vCf6V > div.zZYga > div > article > div.eo2As > section.ltpMr.Slqrh > span._15y0l > button > span\").click()\n",
    "                    comment_box = webdriver.find_element_by_css_selector(\"body > div._2dDPU.vCf6V > div.zZYga > div > article > div.eo2As > section.sH9wk._JgwE > div > form > textarea\")\n",
    "                    comment_box.send_keys('soul satisfying!')\n",
    "                    \n",
    "                    sleep(1)\n",
    "                        \n",
    "                        # Enter to post comment\n",
    "                    text_enter=comment_box.send_keys(Keys.ENTER)\n",
    "                    sleep(2)\n",
    "                    \n",
    "                    #follow :\n",
    "                    follow = webdriver.find_element_by_css_selector(\"body > div._2dDPU.vCf6V > div.zZYga > div > article > header > div.o-MQd > div.PQo_0 > div.bY2yH > button\")\n",
    "                    follow.click()\n",
    "                    sleep(2)\n",
    "                    \n",
    "                    \n",
    "\n",
    "                # Next picture\n",
    "                   \n",
    "                    images_trial = webdriver.find_element_by_link_text('Next').click()\n",
    "                    print(\"next image processing\")\n",
    "                    sleep(randint(2,5))\n",
    "                   \n",
    "                   # button_2=webdriver.find_element_by_css_selector(\"body > div._2dDPU.vCf6V > div.zZYga > div > article > div.eo2As > section.ltpMr.Slqrh > span.fr66n > button > span\")\n",
    "                   # button_2.click()\n",
    "                    \n",
    "                    \n",
    "               \n",
    "        else:\n",
    "                    webdriver.find_element_by_link_text('Next').click()\n",
    "                \n",
    "             \n",
    "    # some hashtag stops refreshing photos (it may happen sometimes), it continues to the next\n",
    "    except:\n",
    "        continue\n"
   ]
  },
  {
   "cell_type": "code",
   "execution_count": null,
   "metadata": {},
   "outputs": [],
   "source": []
  }
 ],
 "metadata": {
  "kernelspec": {
   "display_name": "Python 3",
   "language": "python",
   "name": "python3"
  },
  "language_info": {
   "codemirror_mode": {
    "name": "ipython",
    "version": 3
   },
   "file_extension": ".py",
   "mimetype": "text/x-python",
   "name": "python",
   "nbconvert_exporter": "python",
   "pygments_lexer": "ipython3",
   "version": "3.6.4"
  }
 },
 "nbformat": 4,
 "nbformat_minor": 2
}
